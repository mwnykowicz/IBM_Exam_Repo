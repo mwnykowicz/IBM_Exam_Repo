{
 "cells": [
  {
   "cell_type": "markdown",
   "id": "3829728a-3f28-44ad-a4df-72ee2a2cda5c",
   "metadata": {},
   "source": [
    "__Exercise 1__: Create a Jupyter Notebook"
   ]
  },
  {
   "cell_type": "markdown",
   "id": "fee97abe-bb31-441f-b76f-b82cc0d0983d",
   "metadata": {},
   "source": [
    "Answer: Done, please look at the name of this notebook."
   ]
  },
  {
   "cell_type": "markdown",
   "id": "b2a2b071-12c4-4d7f-a9a7-8d932fb1ce7c",
   "metadata": {},
   "source": [
    "__Exercise 2__: Create markdown cell with title of the notebook"
   ]
  },
  {
   "cell_type": "markdown",
   "id": "02bcfeaf-1c56-4c95-9fbe-48c83d0ea7da",
   "metadata": {},
   "source": [
    "# Data Science Tools and Ecosystem"
   ]
  },
  {
   "cell_type": "markdown",
   "id": "9f705947-a7bf-456e-821d-cd68945793cb",
   "metadata": {},
   "source": [
    "__Exercise 3__ - Create a markdown cell for an introduction"
   ]
  },
  {
   "cell_type": "markdown",
   "id": "b5d2b797-91f3-4bce-b937-2c4b26352a3c",
   "metadata": {},
   "source": [
    "In this notebook, Data Science Tools and Ecosystem are summarized. Please take your time reviewing the content of the notebook."
   ]
  },
  {
   "cell_type": "markdown",
   "id": "65c3097a-1849-46d0-8518-6d1bbe1f28d8",
   "metadata": {},
   "source": [
    "__Exercise 4__ - Create a markdown cell to list data science languages"
   ]
  },
  {
   "cell_type": "markdown",
   "id": "6d6f9a37-8c84-45fe-af66-9f69a8515714",
   "metadata": {
    "tags": []
   },
   "source": [
    "Some of the popular languages that Data Scientists use are:\n",
    "1. R\n",
    "2. Python\n",
    "3. SQL"
   ]
  },
  {
   "cell_type": "markdown",
   "id": "0f91813c-40ae-481e-bb42-e47bc3c2e3ce",
   "metadata": {},
   "source": [
    "__Exercise 5__ - Create a markdown cell to list data science libraries"
   ]
  },
  {
   "cell_type": "markdown",
   "id": "d6898ef3-aa55-4fad-8605-c5cd126d21a7",
   "metadata": {},
   "source": [
    "Some of the commonly used libraries used by Data Scientists include:\n",
    "1. ggplot\n",
    "2. NumPy\n",
    "3. Pandas\n",
    "4. Seaborn\n",
    "5. Matplotlib"
   ]
  },
  {
   "cell_type": "markdown",
   "id": "01dd780b-9019-445d-bde1-3992b9f0d3c5",
   "metadata": {},
   "source": [
    "__Exercise 6__ - Create a markdown cell with a table of Data Science tools"
   ]
  },
  {
   "cell_type": "markdown",
   "id": "7e6d339e-39d9-41a7-84c1-ab5128b37b41",
   "metadata": {
    "tags": []
   },
   "source": [
    "|Data Science Tools|\n",
    "|----|\n",
    "|Git|\n",
    "|Jupyter|\n",
    "|R-Studio|"
   ]
  },
  {
   "cell_type": "markdown",
   "id": "7676a39e-3e04-47c9-96e2-761468779620",
   "metadata": {},
   "source": [
    "__Exercise 7__ - Create a markdown cell introducing arithmetic expression examples"
   ]
  },
  {
   "cell_type": "code",
   "execution_count": null,
   "id": "b4b20660-78e8-42e6-9ab7-cadd458178ca",
   "metadata": {},
   "outputs": [],
   "source": [
    "### Below are a few examples of evaluating arithmetic expressions in Python"
   ]
  },
  {
   "cell_type": "markdown",
   "id": "6989c9ef-1800-4074-9359-5ecd32247eb4",
   "metadata": {},
   "source": [
    "__Exercise 8__ - Create a code cell to multiply and add numbers"
   ]
  },
  {
   "cell_type": "code",
   "execution_count": 4,
   "id": "448c9e04-9453-4222-8702-0ed24535a654",
   "metadata": {
    "tags": []
   },
   "outputs": [
    {
     "data": {
      "text/plain": [
       "17"
      ]
     },
     "execution_count": 4,
     "metadata": {},
     "output_type": "execute_result"
    }
   ],
   "source": [
    "# This a simple arithmetic expression to mutiply then add integers\n",
    "(3*4)+5"
   ]
  },
  {
   "cell_type": "markdown",
   "id": "4a22e85e-92ac-42ee-b3d7-b5306d751ce5",
   "metadata": {},
   "source": [
    "__Exercise 9__ - Create a code cell to convert minutes to hours"
   ]
  },
  {
   "cell_type": "code",
   "execution_count": 8,
   "id": "3ad4740e-4713-4686-a860-4c3c58630ae6",
   "metadata": {
    "tags": []
   },
   "outputs": [
    {
     "name": "stdout",
     "output_type": "stream",
     "text": [
      "3.3333333333333335\n"
     ]
    }
   ],
   "source": [
    "# This will convert 200 minutes to hours by diving by 60. First creating variable with\n",
    "# a result and than by printing it\n",
    "x = 200/60\n",
    "print(x)"
   ]
  },
  {
   "cell_type": "markdown",
   "id": "22dcaabc-d478-438e-ad94-11d6a72533e0",
   "metadata": {},
   "source": [
    "__Exercise 10__ - Insert a markdown cell to list Objectives"
   ]
  },
  {
   "cell_type": "markdown",
   "id": "5479dfc4-671a-4038-ab94-7a20cdacf55f",
   "metadata": {},
   "source": [
    "__Objectives:__\n",
    "- Creating headlines\n",
    "- Using Markdowns\n",
    "- Coding\n",
    "- Doing basic calculations\n",
    "- Other Jupyter notebooks features"
   ]
  },
  {
   "cell_type": "markdown",
   "id": "f5c8df52-9031-457d-820f-74ef92242b0d",
   "metadata": {},
   "source": [
    "__Exercise 11__ - Create a markdown cell to indicate the Author's name"
   ]
  },
  {
   "cell_type": "markdown",
   "id": "e4b72049-8786-4863-a6a8-a6e7bd0ed8f0",
   "metadata": {},
   "source": [
    "## Author\n",
    "Marcin Wnykowicz"
   ]
  },
  {
   "cell_type": "code",
   "execution_count": null,
   "id": "f066c09d-7835-41d0-93ca-d57ec6bf2f38",
   "metadata": {},
   "outputs": [],
   "source": []
  }
 ],
 "metadata": {
  "kernelspec": {
   "display_name": "Python",
   "language": "python",
   "name": "conda-env-python-py"
  },
  "language_info": {
   "codemirror_mode": {
    "name": "ipython",
    "version": 3
   },
   "file_extension": ".py",
   "mimetype": "text/x-python",
   "name": "python",
   "nbconvert_exporter": "python",
   "pygments_lexer": "ipython3",
   "version": "3.7.12"
  }
 },
 "nbformat": 4,
 "nbformat_minor": 5
}
